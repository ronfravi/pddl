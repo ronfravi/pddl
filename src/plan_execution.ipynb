{
  "cells": [
    {
      "cell_type": "markdown",
      "id": "8b1442f9",
      "metadata": {
        "id": "8b1442f9"
      },
      "source": [
        "# Ejecución de planes\n",
        "Este notebook está diseñado para ejecutar planes a partir de un **dominio** y un **problema** definidos en PDDL"
      ]
    },
    {
      "cell_type": "markdown",
      "id": "2e53961a",
      "metadata": {
        "id": "2e53961a"
      },
      "source": [
        "# 0. Instalación e importación de librerías\n",
        "Instalamos e importamos las librerías correspondientes"
      ]
    },
    {
      "cell_type": "code",
      "execution_count": 1,
      "id": "028f1c8f",
      "metadata": {
        "colab": {
          "base_uri": "https://localhost:8080/"
        },
        "id": "028f1c8f",
        "outputId": "debf3f42-f2ae-4f7c-9ef1-b6d722b6f885"
      },
      "outputs": [
        {
          "name": "stdout",
          "output_type": "stream",
          "text": [
            "Requirement already satisfied: planutils in /home/ronald/.pyenv/versions/3.10.4/lib/python3.10/site-packages (0.10.18)\n",
            "Requirement already satisfied: requests in /home/ronald/.pyenv/versions/3.10.4/lib/python3.10/site-packages (from planutils) (2.27.1)\n",
            "Requirement already satisfied: charset-normalizer~=2.0.0 in /home/ronald/.pyenv/versions/3.10.4/lib/python3.10/site-packages (from requests->planutils) (2.0.12)\n",
            "Requirement already satisfied: urllib3<1.27,>=1.21.1 in /home/ronald/.pyenv/versions/3.10.4/lib/python3.10/site-packages (from requests->planutils) (1.26.9)\n",
            "Requirement already satisfied: certifi>=2017.4.17 in /home/ronald/.pyenv/versions/3.10.4/lib/python3.10/site-packages (from requests->planutils) (2021.10.8)\n",
            "Requirement already satisfied: idna<4,>=2.5 in /home/ronald/.pyenv/versions/3.10.4/lib/python3.10/site-packages (from requests->planutils) (3.3)\n",
            "\u001b[33mWARNING: You are using pip version 22.0.4; however, version 25.1.1 is available.\n",
            "You should consider upgrading via the '/home/ronald/.pyenv/versions/3.10.4/bin/python3.10 -m pip install --upgrade pip' command.\u001b[0m\u001b[33m\n",
            "\u001b[0mError: Package not found -- all\n",
            "yes: standard output: Broken pipe\n"
          ]
        }
      ],
      "source": [
        "!pip install planutils\n",
        "!yes |planutils install all"
      ]
    },
    {
      "cell_type": "code",
      "execution_count": 2,
      "id": "2db053d1",
      "metadata": {
        "id": "2db053d1"
      },
      "outputs": [],
      "source": [
        "import subprocess\n",
        "from datetime import datetime"
      ]
    },
    {
      "cell_type": "markdown",
      "id": "597ae8ce",
      "metadata": {
        "id": "597ae8ce"
      },
      "source": [
        "# 1. Setup del dominio y problema"
      ]
    },
    {
      "cell_type": "code",
      "execution_count": 3,
      "id": "c778db24",
      "metadata": {
        "id": "c778db24"
      },
      "outputs": [],
      "source": [
        "# Path relativo a este notebook del archivo de dominio\n",
        "domain_file = \"../files/barman_domain.pddl\"\n",
        "\n",
        "# Path relativo a este notebook del archivo del problema\n",
        "problem_file = \"../files/barman_problem.pddl\"\n",
        "\n",
        "# Para cambiar el DOMINIO y el PROBLEMA que se van a usar,\n",
        "# simplemente hay que cambiar los valores de las variables anteriores\n",
        "# para que apunten a los archivos que se quieran usar."
      ]
    },
    {
      "cell_type": "code",
      "execution_count": 4,
      "id": "53c1f7ce",
      "metadata": {
        "id": "53c1f7ce"
      },
      "outputs": [],
      "source": [
        "def ejecutar_planificador_pddl(\n",
        "        ruta_dominio: str,\n",
        "          ruta_problema: str, \n",
        "          planificador: str = \"fast-downward\", \n",
        "          prefijo_salida: str = \"salida_plan\",\n",
        "          parameters_extra:list[str] = []\n",
        "          ):\n",
        "    \"\"\"\n",
        "    Ejecuta un planificador PDDL usando planutils y guarda toda la salida en un archivo de texto.\n",
        "\n",
        "    Parámetros:\n",
        "        ruta_dominio (str): Ruta al archivo PDDL del dominio.\n",
        "        ruta_problema (str): Ruta al archivo PDDL del problema.\n",
        "        planificador (str): Nombre del planificador (por ejemplo: 'fast-downward', 'optic', 'lpg-td').\n",
        "        prefijo_salida (str): Prefijo del nombre del archivo de salida (por defecto: 'salida_plan').\n",
        "    \"\"\"\n",
        "    # Crear un nombre único para el archivo usando la fecha y hora\n",
        "    timestamp = datetime.now().strftime(\"%Y%m%d_%H%M%S\")\n",
        "    archivo_salida = f\"{prefijo_salida}_{planificador}_{timestamp}.txt\"\n",
        "\n",
        "    try:\n",
        "        # Ejecutar el planificador con planutils\n",
        "        command = [\"planutils\", \"run\", planificador, ruta_dominio, ruta_problema]\n",
        "        if parameters_extra:\n",
        "            command += parameters_extra\n",
        "\n",
        "        print(\"______________________________________________________\")\n",
        "        print(command)\n",
        "        resultado = subprocess.run(\n",
        "            command,\n",
        "            capture_output=True,\n",
        "            text=True\n",
        "        )\n",
        "        \n",
        "\n",
        "        # Guardar toda la salida (stdout, stderr, código de retorno) en un archivo de texto\n",
        "        with open(archivo_salida, \"w\") as f:\n",
        "            f.write(\"=== COMANDO EJECUTADO ===\\n\")\n",
        "            f.write(f\"planutils run {planificador} {ruta_dominio} {ruta_problema}\\n\\n\")\n",
        "            f.write(\"=== SALIDA ESTÁNDAR (stdout) ===\\n\")\n",
        "            f.write(resultado.stdout + \"\\n\")\n",
        "            f.write(\"=== ERRORES (stderr) ===\\n\")\n",
        "            f.write(resultado.stderr + \"\\n\")\n",
        "            f.write(\"=== CÓDIGO DE RETORNO ===\\n\")\n",
        "            f.write(str(resultado.returncode) + \"\\n\")\n",
        "\n",
        "        print(f\"✅ Resultado guardado en: {archivo_salida}\")\n",
        "        if resultado.returncode == 0:\n",
        "            print(\"🧠 El plan se generó correctamente.\")\n",
        "        else:\n",
        "            print(\"⚠️ El planificador terminó con un error. Consulta el archivo de salida para más detalles.\")\n",
        "\n",
        "    except FileNotFoundError as e:\n",
        "        print(\"❌ Error: planutils o el planificador no están instalados correctamente.\")\n",
        "        print(str(e))\n",
        "    except Exception as e:\n",
        "        print(\"❌ Error inesperado:\")\n",
        "        print(str(e))"
      ]
    },
    {
      "cell_type": "markdown",
      "id": "81735428",
      "metadata": {
        "id": "81735428"
      },
      "source": [
        "# 2. Ejecución del plan"
      ]
    },
    {
      "cell_type": "code",
      "execution_count": null,
      "id": "798e0e70",
      "metadata": {
        "colab": {
          "base_uri": "https://localhost:8080/"
        },
        "id": "798e0e70",
        "outputId": "2707df47-3e32-4c55-f54c-c927df30fd2b"
      },
      "outputs": [
        {
          "name": "stdout",
          "output_type": "stream",
          "text": [
            "______________________________________________________\n",
            "['planutils', 'run', 'lpg-td', '../files/barman_domain.pddl', '../files/barman_problem.pddl']\n"
          ]
        },
        {
          "ename": "KeyboardInterrupt",
          "evalue": "",
          "output_type": "error",
          "traceback": [
            "\u001b[0;31m---------------------------------------------------------------------------\u001b[0m",
            "\u001b[0;31mKeyboardInterrupt\u001b[0m                         Traceback (most recent call last)",
            "Cell \u001b[0;32mIn[5], line 1\u001b[0m\n\u001b[0;32m----> 1\u001b[0m \u001b[43mejecutar_planificador_pddl\u001b[49m\u001b[43m(\u001b[49m\u001b[43mdomain_file\u001b[49m\u001b[43m,\u001b[49m\u001b[43m \u001b[49m\u001b[43mproblem_file\u001b[49m\u001b[43m,\u001b[49m\u001b[43m \u001b[49m\u001b[43mplanificador\u001b[49m\u001b[38;5;241;43m=\u001b[39;49m\u001b[38;5;124;43m\"\u001b[39;49m\u001b[38;5;124;43mlpg-td\u001b[39;49m\u001b[38;5;124;43m\"\u001b[39;49m\u001b[43m)\u001b[49m\n",
            "Cell \u001b[0;32mIn[4], line 29\u001b[0m, in \u001b[0;36mejecutar_planificador_pddl\u001b[0;34m(ruta_dominio, ruta_problema, planificador, prefijo_salida, parameters_extra)\u001b[0m\n\u001b[1;32m     27\u001b[0m \u001b[38;5;28mprint\u001b[39m(\u001b[38;5;124m\"\u001b[39m\u001b[38;5;124m______________________________________________________\u001b[39m\u001b[38;5;124m\"\u001b[39m)\n\u001b[1;32m     28\u001b[0m \u001b[38;5;28mprint\u001b[39m(command)\n\u001b[0;32m---> 29\u001b[0m resultado \u001b[38;5;241m=\u001b[39m \u001b[43msubprocess\u001b[49m\u001b[38;5;241;43m.\u001b[39;49m\u001b[43mrun\u001b[49m\u001b[43m(\u001b[49m\n\u001b[1;32m     30\u001b[0m \u001b[43m    \u001b[49m\u001b[43mcommand\u001b[49m\u001b[43m,\u001b[49m\n\u001b[1;32m     31\u001b[0m \u001b[43m    \u001b[49m\u001b[43mcapture_output\u001b[49m\u001b[38;5;241;43m=\u001b[39;49m\u001b[38;5;28;43;01mTrue\u001b[39;49;00m\u001b[43m,\u001b[49m\n\u001b[1;32m     32\u001b[0m \u001b[43m    \u001b[49m\u001b[43mtext\u001b[49m\u001b[38;5;241;43m=\u001b[39;49m\u001b[38;5;28;43;01mTrue\u001b[39;49;00m\n\u001b[1;32m     33\u001b[0m \u001b[43m\u001b[49m\u001b[43m)\u001b[49m\n\u001b[1;32m     36\u001b[0m \u001b[38;5;66;03m# Guardar toda la salida (stdout, stderr, código de retorno) en un archivo de texto\u001b[39;00m\n\u001b[1;32m     37\u001b[0m \u001b[38;5;28;01mwith\u001b[39;00m \u001b[38;5;28mopen\u001b[39m(archivo_salida, \u001b[38;5;124m\"\u001b[39m\u001b[38;5;124mw\u001b[39m\u001b[38;5;124m\"\u001b[39m) \u001b[38;5;28;01mas\u001b[39;00m f:\n",
            "File \u001b[0;32m~/.pyenv/versions/3.10.4/lib/python3.10/subprocess.py:503\u001b[0m, in \u001b[0;36mrun\u001b[0;34m(input, capture_output, timeout, check, *popenargs, **kwargs)\u001b[0m\n\u001b[1;32m    501\u001b[0m \u001b[38;5;28;01mwith\u001b[39;00m Popen(\u001b[38;5;241m*\u001b[39mpopenargs, \u001b[38;5;241m*\u001b[39m\u001b[38;5;241m*\u001b[39mkwargs) \u001b[38;5;28;01mas\u001b[39;00m process:\n\u001b[1;32m    502\u001b[0m     \u001b[38;5;28;01mtry\u001b[39;00m:\n\u001b[0;32m--> 503\u001b[0m         stdout, stderr \u001b[38;5;241m=\u001b[39m \u001b[43mprocess\u001b[49m\u001b[38;5;241;43m.\u001b[39;49m\u001b[43mcommunicate\u001b[49m\u001b[43m(\u001b[49m\u001b[38;5;28;43minput\u001b[39;49m\u001b[43m,\u001b[49m\u001b[43m \u001b[49m\u001b[43mtimeout\u001b[49m\u001b[38;5;241;43m=\u001b[39;49m\u001b[43mtimeout\u001b[49m\u001b[43m)\u001b[49m\n\u001b[1;32m    504\u001b[0m     \u001b[38;5;28;01mexcept\u001b[39;00m TimeoutExpired \u001b[38;5;28;01mas\u001b[39;00m exc:\n\u001b[1;32m    505\u001b[0m         process\u001b[38;5;241m.\u001b[39mkill()\n",
            "File \u001b[0;32m~/.pyenv/versions/3.10.4/lib/python3.10/subprocess.py:1149\u001b[0m, in \u001b[0;36mPopen.communicate\u001b[0;34m(self, input, timeout)\u001b[0m\n\u001b[1;32m   1146\u001b[0m     endtime \u001b[38;5;241m=\u001b[39m \u001b[38;5;28;01mNone\u001b[39;00m\n\u001b[1;32m   1148\u001b[0m \u001b[38;5;28;01mtry\u001b[39;00m:\n\u001b[0;32m-> 1149\u001b[0m     stdout, stderr \u001b[38;5;241m=\u001b[39m \u001b[38;5;28;43mself\u001b[39;49m\u001b[38;5;241;43m.\u001b[39;49m\u001b[43m_communicate\u001b[49m\u001b[43m(\u001b[49m\u001b[38;5;28;43minput\u001b[39;49m\u001b[43m,\u001b[49m\u001b[43m \u001b[49m\u001b[43mendtime\u001b[49m\u001b[43m,\u001b[49m\u001b[43m \u001b[49m\u001b[43mtimeout\u001b[49m\u001b[43m)\u001b[49m\n\u001b[1;32m   1150\u001b[0m \u001b[38;5;28;01mexcept\u001b[39;00m \u001b[38;5;167;01mKeyboardInterrupt\u001b[39;00m:\n\u001b[1;32m   1151\u001b[0m     \u001b[38;5;66;03m# https://bugs.python.org/issue25942\u001b[39;00m\n\u001b[1;32m   1152\u001b[0m     \u001b[38;5;66;03m# See the detailed comment in .wait().\u001b[39;00m\n\u001b[1;32m   1153\u001b[0m     \u001b[38;5;28;01mif\u001b[39;00m timeout \u001b[38;5;129;01mis\u001b[39;00m \u001b[38;5;129;01mnot\u001b[39;00m \u001b[38;5;28;01mNone\u001b[39;00m:\n",
            "File \u001b[0;32m~/.pyenv/versions/3.10.4/lib/python3.10/subprocess.py:2000\u001b[0m, in \u001b[0;36mPopen._communicate\u001b[0;34m(self, input, endtime, orig_timeout)\u001b[0m\n\u001b[1;32m   1993\u001b[0m     \u001b[38;5;28mself\u001b[39m\u001b[38;5;241m.\u001b[39m_check_timeout(endtime, orig_timeout,\n\u001b[1;32m   1994\u001b[0m                         stdout, stderr,\n\u001b[1;32m   1995\u001b[0m                         skip_check_and_raise\u001b[38;5;241m=\u001b[39m\u001b[38;5;28;01mTrue\u001b[39;00m)\n\u001b[1;32m   1996\u001b[0m     \u001b[38;5;28;01mraise\u001b[39;00m \u001b[38;5;167;01mRuntimeError\u001b[39;00m(  \u001b[38;5;66;03m# Impossible :)\u001b[39;00m\n\u001b[1;32m   1997\u001b[0m         \u001b[38;5;124m'\u001b[39m\u001b[38;5;124m_check_timeout(..., skip_check_and_raise=True) \u001b[39m\u001b[38;5;124m'\u001b[39m\n\u001b[1;32m   1998\u001b[0m         \u001b[38;5;124m'\u001b[39m\u001b[38;5;124mfailed to raise TimeoutExpired.\u001b[39m\u001b[38;5;124m'\u001b[39m)\n\u001b[0;32m-> 2000\u001b[0m ready \u001b[38;5;241m=\u001b[39m \u001b[43mselector\u001b[49m\u001b[38;5;241;43m.\u001b[39;49m\u001b[43mselect\u001b[49m\u001b[43m(\u001b[49m\u001b[43mtimeout\u001b[49m\u001b[43m)\u001b[49m\n\u001b[1;32m   2001\u001b[0m \u001b[38;5;28mself\u001b[39m\u001b[38;5;241m.\u001b[39m_check_timeout(endtime, orig_timeout, stdout, stderr)\n\u001b[1;32m   2003\u001b[0m \u001b[38;5;66;03m# XXX Rewrite these to use non-blocking I/O on the file\u001b[39;00m\n\u001b[1;32m   2004\u001b[0m \u001b[38;5;66;03m# objects; they are no longer using C stdio!\u001b[39;00m\n",
            "File \u001b[0;32m~/.pyenv/versions/3.10.4/lib/python3.10/selectors.py:416\u001b[0m, in \u001b[0;36m_PollLikeSelector.select\u001b[0;34m(self, timeout)\u001b[0m\n\u001b[1;32m    414\u001b[0m ready \u001b[38;5;241m=\u001b[39m []\n\u001b[1;32m    415\u001b[0m \u001b[38;5;28;01mtry\u001b[39;00m:\n\u001b[0;32m--> 416\u001b[0m     fd_event_list \u001b[38;5;241m=\u001b[39m \u001b[38;5;28;43mself\u001b[39;49m\u001b[38;5;241;43m.\u001b[39;49m\u001b[43m_selector\u001b[49m\u001b[38;5;241;43m.\u001b[39;49m\u001b[43mpoll\u001b[49m\u001b[43m(\u001b[49m\u001b[43mtimeout\u001b[49m\u001b[43m)\u001b[49m\n\u001b[1;32m    417\u001b[0m \u001b[38;5;28;01mexcept\u001b[39;00m \u001b[38;5;167;01mInterruptedError\u001b[39;00m:\n\u001b[1;32m    418\u001b[0m     \u001b[38;5;28;01mreturn\u001b[39;00m ready\n",
            "\u001b[0;31mKeyboardInterrupt\u001b[0m: "
          ]
        }
      ],
      "source": [
        "ejecutar_planificador_pddl(domain_file, problem_file, planificador=\"ff\")"
      ]
    },
    {
      "cell_type": "code",
      "execution_count": null,
      "id": "cc5e8413",
      "metadata": {
        "id": "cc5e8413"
      },
      "outputs": [],
      "source": []
    },
    {
      "cell_type": "code",
      "execution_count": null,
      "id": "5fc897c0",
      "metadata": {
        "id": "5fc897c0"
      },
      "outputs": [],
      "source": []
    }
  ],
  "metadata": {
    "colab": {
      "provenance": []
    },
    "kernelspec": {
      "display_name": "3.10.4",
      "language": "python",
      "name": "python3"
    },
    "language_info": {
      "codemirror_mode": {
        "name": "ipython",
        "version": 3
      },
      "file_extension": ".py",
      "mimetype": "text/x-python",
      "name": "python",
      "nbconvert_exporter": "python",
      "pygments_lexer": "ipython3",
      "version": "3.10.4"
    }
  },
  "nbformat": 4,
  "nbformat_minor": 5
}
