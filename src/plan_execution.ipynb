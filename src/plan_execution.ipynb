{
  "cells": [
    {
      "cell_type": "markdown",
      "id": "8b1442f9",
      "metadata": {
        "id": "8b1442f9"
      },
      "source": [
        "# Ejecución de planes\n",
        "Este notebook está diseñado para ejecutar planes a partir de un **dominio** y un **problema** definidos en PDDL"
      ]
    },
    {
      "cell_type": "markdown",
      "id": "2e53961a",
      "metadata": {
        "id": "2e53961a"
      },
      "source": [
        "# 0. Instalación e importación de librerías\n",
        "Instalamos e importamos las librerías correspondientes"
      ]
    },
    {
      "cell_type": "code",
      "execution_count": 14,
      "id": "028f1c8f",
      "metadata": {
        "colab": {
          "base_uri": "https://localhost:8080/"
        },
        "id": "028f1c8f",
        "outputId": "debf3f42-f2ae-4f7c-9ef1-b6d722b6f885"
      },
      "outputs": [
        {
          "name": "stdout",
          "output_type": "stream",
          "text": [
            "Requirement already satisfied: planutils in /home/ronald/.pyenv/versions/3.10.4/lib/python3.10/site-packages (0.10.18)\n",
            "Requirement already satisfied: requests in /home/ronald/.pyenv/versions/3.10.4/lib/python3.10/site-packages (from planutils) (2.27.1)\n",
            "Requirement already satisfied: certifi>=2017.4.17 in /home/ronald/.pyenv/versions/3.10.4/lib/python3.10/site-packages (from requests->planutils) (2021.10.8)\n",
            "Requirement already satisfied: urllib3<1.27,>=1.21.1 in /home/ronald/.pyenv/versions/3.10.4/lib/python3.10/site-packages (from requests->planutils) (1.26.9)\n",
            "Requirement already satisfied: charset-normalizer~=2.0.0 in /home/ronald/.pyenv/versions/3.10.4/lib/python3.10/site-packages (from requests->planutils) (2.0.12)\n",
            "Requirement already satisfied: idna<4,>=2.5 in /home/ronald/.pyenv/versions/3.10.4/lib/python3.10/site-packages (from requests->planutils) (3.3)\n",
            "\u001b[33mWARNING: You are using pip version 22.0.4; however, version 25.1.1 is available.\n",
            "You should consider upgrading via the '/home/ronald/.pyenv/versions/3.10.4/bin/python3.10 -m pip install --upgrade pip' command.\u001b[0m\u001b[33m\n",
            "\u001b[0mError: Package not found -- all\n",
            "yes: standard output: Broken pipe\n"
          ]
        }
      ],
      "source": [
        "!pip install planutils\n",
        "!yes |planutils install all"
      ]
    },
    {
      "cell_type": "code",
      "execution_count": 15,
      "id": "2db053d1",
      "metadata": {
        "id": "2db053d1"
      },
      "outputs": [],
      "source": [
        "import subprocess\n",
        "from datetime import datetime"
      ]
    },
    {
      "cell_type": "markdown",
      "id": "597ae8ce",
      "metadata": {
        "id": "597ae8ce"
      },
      "source": [
        "# 1. Setup del dominio y problema"
      ]
    },
    {
      "cell_type": "code",
      "execution_count": 16,
      "id": "c778db24",
      "metadata": {
        "id": "c778db24"
      },
      "outputs": [],
      "source": [
        "# Path relativo a este notebook del archivo de dominio\n",
        "domain_file = \"../files/barman_domain.pddl\"\n",
        "\n",
        "# Path relativo a este notebook del archivo del problema\n",
        "problem_file = \"../files/barman_problem.pddl\"\n",
        "\n",
        "# Para cambiar el DOMINIO y el PROBLEMA que se van a usar,\n",
        "# simplemente hay que cambiar los valores de las variables anteriores\n",
        "# para que apunten a los archivos que se quieran usar."
      ]
    },
    {
      "cell_type": "code",
      "execution_count": 17,
      "id": "53c1f7ce",
      "metadata": {
        "id": "53c1f7ce"
      },
      "outputs": [],
      "source": [
        "def ejecutar_planificador_pddl(\n",
        "        ruta_dominio: str,\n",
        "          ruta_problema: str, \n",
        "          planificador: str = \"fast-downward\", \n",
        "          prefijo_salida: str = \"salida_plan\",\n",
        "          parameters_extra:list[str] = []\n",
        "          ):\n",
        "    \"\"\"\n",
        "    Ejecuta un planificador PDDL usando planutils y guarda toda la salida en un archivo de texto.\n",
        "\n",
        "    Parámetros:\n",
        "        ruta_dominio (str): Ruta al archivo PDDL del dominio.\n",
        "        ruta_problema (str): Ruta al archivo PDDL del problema.\n",
        "        planificador (str): Nombre del planificador (por ejemplo: 'fast-downward', 'optic', 'lpg-td').\n",
        "        prefijo_salida (str): Prefijo del nombre del archivo de salida (por defecto: 'salida_plan').\n",
        "    \"\"\"\n",
        "    # Crear un nombre único para el archivo usando la fecha y hora\n",
        "    timestamp = datetime.now().strftime(\"%Y%m%d_%H%M%S\")\n",
        "    archivo_salida = f\"{prefijo_salida}_{planificador}_{timestamp}.txt\"\n",
        "\n",
        "    try:\n",
        "        # Ejecutar el planificador con planutils\n",
        "        command = [\"planutils\", \"run\", planificador, ruta_dominio, ruta_problema]\n",
        "        if parameters_extra:\n",
        "            command += parameters_extra\n",
        "\n",
        "        print(\"______________________________________________________\")\n",
        "        print(command)\n",
        "        resultado = subprocess.run(\n",
        "            command,\n",
        "            capture_output=True,\n",
        "            text=True\n",
        "        )\n",
        "        \n",
        "\n",
        "        # Guardar toda la salida (stdout, stderr, código de retorno) en un archivo de texto\n",
        "        with open(archivo_salida, \"w\") as f:\n",
        "            f.write(\"=== COMANDO EJECUTADO ===\\n\")\n",
        "            f.write(f\"planutils run {planificador} {ruta_dominio} {ruta_problema}\\n\\n\")\n",
        "            f.write(\"=== SALIDA ESTÁNDAR (stdout) ===\\n\")\n",
        "            f.write(resultado.stdout + \"\\n\")\n",
        "            f.write(\"=== ERRORES (stderr) ===\\n\")\n",
        "            f.write(resultado.stderr + \"\\n\")\n",
        "            f.write(\"=== CÓDIGO DE RETORNO ===\\n\")\n",
        "            f.write(str(resultado.returncode) + \"\\n\")\n",
        "\n",
        "        print(f\"✅ Resultado guardado en: {archivo_salida}\")\n",
        "        if resultado.returncode == 0:\n",
        "            print(\"🧠 El plan se generó correctamente.\")\n",
        "        else:\n",
        "            print(\"⚠️ El planificador terminó con un error. Consulta el archivo de salida para más detalles.\")\n",
        "\n",
        "    except FileNotFoundError as e:\n",
        "        print(\"❌ Error: planutils o el planificador no están instalados correctamente.\")\n",
        "        print(str(e))\n",
        "    except Exception as e:\n",
        "        print(\"❌ Error inesperado:\")\n",
        "        print(str(e))"
      ]
    },
    {
      "cell_type": "markdown",
      "id": "81735428",
      "metadata": {
        "id": "81735428"
      },
      "source": [
        "# 2. Ejecución del plan"
      ]
    },
    {
      "cell_type": "code",
      "execution_count": 18,
      "id": "798e0e70",
      "metadata": {
        "colab": {
          "base_uri": "https://localhost:8080/"
        },
        "id": "798e0e70",
        "outputId": "2707df47-3e32-4c55-f54c-c927df30fd2b"
      },
      "outputs": [
        {
          "name": "stdout",
          "output_type": "stream",
          "text": [
            "______________________________________________________\n",
            "['planutils', 'run', 'lama-first', '../files/barman_domain.pddl', '../files/barman_problem.pddl']\n",
            "✅ Resultado guardado en: salida_plan_lama-first_20250616_004336.txt\n",
            "🧠 El plan se generó correctamente.\n"
          ]
        }
      ],
      "source": [
        "ejecutar_planificador_pddl(domain_file, problem_file, planificador=\"lama-first\")"
      ]
    },
    {
      "cell_type": "code",
      "execution_count": null,
      "id": "cc5e8413",
      "metadata": {
        "id": "cc5e8413"
      },
      "outputs": [
        {
          "name": "stdout",
          "output_type": "stream",
          "text": [
            "______________________________________________________\n",
            "['planutils', 'run', 'dual-bfws-fdparser', '../files/barman_domain.pddl', '../files/barman_problem.pddl']\n",
            "✅ Resultado guardado en: salida_plan_dual-bfws-fdparser_20250616_012819.txt\n",
            "🧠 El plan se generó correctamente.\n"
          ]
        }
      ],
      "source": [
        "ejecutar_planificador_pddl(domain_file, problem_file, planificador=\"dual-bfws-fdparser\")"
      ]
    },
    {
      "cell_type": "code",
      "execution_count": null,
      "id": "5fc897c0",
      "metadata": {
        "id": "5fc897c0"
      },
      "outputs": [
        {
          "name": "stdout",
          "output_type": "stream",
          "text": [
            "______________________________________________________\n",
            "['planutils', 'run', 'scorpion', '../files/barman_domain.pddl', '../files/barman_problem.pddl']\n"
          ]
        }
      ],
      "source": [
        "ejecutar_planificador_pddl(domain_file, problem_file, planificador=\"enhsp-2020\")"
      ]
    }
  ],
  "metadata": {
    "colab": {
      "provenance": []
    },
    "kernelspec": {
      "display_name": "3.10.4",
      "language": "python",
      "name": "python3"
    },
    "language_info": {
      "codemirror_mode": {
        "name": "ipython",
        "version": 3
      },
      "file_extension": ".py",
      "mimetype": "text/x-python",
      "name": "python",
      "nbconvert_exporter": "python",
      "pygments_lexer": "ipython3",
      "version": "3.10.4"
    }
  },
  "nbformat": 4,
  "nbformat_minor": 5
}
